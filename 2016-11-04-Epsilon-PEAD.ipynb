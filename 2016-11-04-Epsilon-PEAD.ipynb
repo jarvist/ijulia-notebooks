{
 "cells": [
  {
   "cell_type": "code",
   "execution_count": 1,
   "metadata": {
    "collapsed": false
   },
   "outputs": [
    {
     "name": "stdout",
     "output_type": "stream",
     "text": [
      "OK, that was getting pretty ugly (See below). Let's try and do something more beautiful!\n"
     ]
    }
   ],
   "source": [
    "println(\"OK, that was getting pretty ugly (See below). Let's try and do something more beautiful!\")\n",
    "using SIUnits\n",
    "using SIUnits.ShortUnits\n"
   ]
  },
  {
   "cell_type": "code",
   "execution_count": 2,
   "metadata": {
    "collapsed": false
   },
   "outputs": [
    {
     "name": "stdout",
     "output_type": "stream",
     "text": [
      "We have real units!\n"
     ]
    },
    {
     "data": {
      "text/plain": [
       "1 eV"
      ]
     },
     "execution_count": 2,
     "metadata": {},
     "output_type": "execute_result"
    }
   ],
   "source": [
    "println(\"We have real units!\")\n",
    "1eV"
   ]
  },
  {
   "cell_type": "markdown",
   "metadata": {},
   "source": [
    "But not everything we want will be defined... (Only SI, no atomic units yet, other than eV.)"
   ]
  },
  {
   "cell_type": "code",
   "execution_count": 3,
   "metadata": {
    "collapsed": false
   },
   "outputs": [
    {
     "ename": "LoadError",
     "evalue": "LoadError: UndefVarError: Debye not defined\nwhile loading In[3], in expression starting on line 1",
     "output_type": "error",
     "traceback": [
      "LoadError: UndefVarError: Debye not defined\nwhile loading In[3], in expression starting on line 1",
      ""
     ]
    }
   ],
   "source": [
    "1Debye"
   ]
  },
  {
   "cell_type": "markdown",
   "metadata": {},
   "source": [
    "Easiest way to define a new unit with a conversion seems to be just this:"
   ]
  },
  {
   "cell_type": "code",
   "execution_count": 4,
   "metadata": {
    "collapsed": false
   },
   "outputs": [
    {
     "data": {
      "text/plain": [
       "3.33564e-30 m s A"
      ]
     },
     "execution_count": 4,
     "metadata": {},
     "output_type": "execute_result"
    }
   ],
   "source": [
    "const Debye=3.33564E-30Coulomb*m"
   ]
  },
  {
   "cell_type": "code",
   "execution_count": 5,
   "metadata": {
    "collapsed": false
   },
   "outputs": [
    {
     "data": {
      "text/plain": [
       "3.33564e-30 m s A"
      ]
     },
     "execution_count": 5,
     "metadata": {},
     "output_type": "execute_result"
    }
   ],
   "source": [
    "1Debye"
   ]
  },
  {
   "cell_type": "code",
   "execution_count": 6,
   "metadata": {
    "collapsed": false
   },
   "outputs": [
    {
     "data": {
      "text/plain": [
       "1 kg m s⁻³A⁻¹"
      ]
     },
     "execution_count": 6,
     "metadata": {},
     "output_type": "execute_result"
    }
   ],
   "source": [
    "Efield=1V/m"
   ]
  },
  {
   "cell_type": "code",
   "execution_count": 7,
   "metadata": {
    "collapsed": false
   },
   "outputs": [
    {
     "data": {
      "text/plain": [
       "3.33564e-30 kg m²s⁻²"
      ]
     },
     "execution_count": 7,
     "metadata": {},
     "output_type": "execute_result"
    }
   ],
   "source": [
    "Efield*1Debye"
   ]
  },
  {
   "cell_type": "code",
   "execution_count": 8,
   "metadata": {
    "collapsed": false
   },
   "outputs": [
    {
     "data": {
      "text/plain": [
       "kg m²s⁻²"
      ]
     },
     "execution_count": 8,
     "metadata": {},
     "output_type": "execute_result"
    }
   ],
   "source": [
    "Joule"
   ]
  },
  {
   "cell_type": "code",
   "execution_count": 9,
   "metadata": {
    "collapsed": false
   },
   "outputs": [
    {
     "name": "stdout",
     "output_type": "stream",
     "text": [
      "Hartree: 4.35974465e-18 kg m²s⁻² (J) 27.211386961259173 eV\n",
      "Bohr: 5.2917721067e-11 m\n",
      "1 au Field: 5.142773636348311e11 kg m s⁻³A⁻¹\n",
      "1 V/m Field: 1 kg m s⁻³A⁻¹\n"
     ]
    }
   ],
   "source": [
    "# Gaussian internal constants: http://www.gaussian.com/g_tech/g_ur/k_constants.htm\n",
    "\n",
    "const Debye=3.33564E-30Coulomb*m\n",
    "\n",
    "const Hartree=4.359744650E-18Joule\n",
    "\n",
    "println(\"Hartree: \",1Hartree,\" (J) \",1Hartree/eV,\" eV\")\n",
    "\n",
    "const Bohr=5.2917721067E-11m\n",
    "println(\"Bohr: \",Bohr)\n",
    "\n",
    "# Elementary charge\n",
    "const q=1.602E-19C\n",
    "\n",
    "const Å=1E-10m\n",
    "\n",
    "auField=Hartree/(q*Bohr)\n",
    "println(\"1 au Field: \",1auField)\n",
    "println(\"1 V/m Field: \",1V/m)"
   ]
  },
  {
   "cell_type": "code",
   "execution_count": 10,
   "metadata": {
    "collapsed": false
   },
   "outputs": [
    {
     "data": {
      "text/plain": [
       "5.142206e11 kg m s⁻³A⁻¹"
      ]
     },
     "execution_count": 10,
     "metadata": {},
     "output_type": "execute_result"
    }
   ],
   "source": [
    "# By http://www.gaussian.com/g_tech/g_ur/k_constants.htm\n",
    "auField2=5.142206E11V/m"
   ]
  },
  {
   "cell_type": "code",
   "execution_count": 11,
   "metadata": {
    "collapsed": false
   },
   "outputs": [
    {
     "data": {
      "text/plain": [
       "6.7e-28 m³"
      ]
     },
     "execution_count": 11,
     "metadata": {},
     "output_type": "execute_result"
    }
   ],
   "source": [
    "volume=(670)Å^3 # ~ approximately, Beth's value from a PCM calculation?\n",
    "#volume=(1000)Å^3 # ~ nm^3\n"
   ]
  },
  {
   "cell_type": "code",
   "execution_count": 12,
   "metadata": {
    "collapsed": false
   },
   "outputs": [
    {
     "data": {
      "text/plain": [
       "0.005949885617910448 kg⁻¹m⁻³s⁴A²"
      ]
     },
     "execution_count": 12,
     "metadata": {},
     "output_type": "execute_result"
    }
   ],
   "source": [
    "(1.1951Debye)/(1V/m)/volume"
   ]
  },
  {
   "cell_type": "code",
   "execution_count": 13,
   "metadata": {
    "collapsed": false
   },
   "outputs": [
    {
     "data": {
      "text/plain": [
       "8.854187817e-12 kg⁻¹m⁻³s⁴A²"
      ]
     },
     "execution_count": 13,
     "metadata": {},
     "output_type": "execute_result"
    }
   ],
   "source": [
    "ε0=8.854187817E-12F/m"
   ]
  },
  {
   "cell_type": "markdown",
   "metadata": {},
   "source": [
    "Ah hah! The units agree... So the equation is correct in terms of units"
   ]
  },
  {
   "cell_type": "code",
   "execution_count": 14,
   "metadata": {
    "collapsed": false
   },
   "outputs": [
    {
     "data": {
      "text/plain": [
       "1.1569409891692679e-11 kg⁻¹m⁻³s⁴A²"
      ]
     },
     "execution_count": 14,
     "metadata": {},
     "output_type": "execute_result"
    }
   ],
   "source": [
    "# Values from Gaussian Field are in units of 0.0001*N auFields\n",
    "# See top paragraph http://www.gaussian.com/g_tech/g_ur/k_field.htm\n",
    "\n",
    "permittivity=(1.1951Debye/10E-4auField)/volume\n",
    "# This will be in SI units"
   ]
  },
  {
   "cell_type": "code",
   "execution_count": 15,
   "metadata": {
    "collapsed": false
   },
   "outputs": [
    {
     "data": {
      "text/plain": [
       "2.3066596429634645"
      ]
     },
     "execution_count": 15,
     "metadata": {},
     "output_type": "execute_result"
    }
   ],
   "source": [
    "1.0+permittivity/ε0\n",
    "# This should be relative-permittivity / dielectric constant"
   ]
  },
  {
   "cell_type": "code",
   "execution_count": 16,
   "metadata": {
    "collapsed": true
   },
   "outputs": [],
   "source": [
    "# Here's two aribtrary 'Efield' calculations for MonoPCBM; extracted for Field = +100X\n",
    "# And with the first value the response unrelaxed (i.e. high frequency), the second the relaxed one (i.e. low frequency)\n",
    "#\n",
    "# MonoPCBM_xp100.log: Dipole moment (field-independent basis, Debye):\n",
    "# MonoPCBM_xp100.log-    X=            -21.8872    Y=              0.4712    Z=             -0.3030  Tot=             21.8944\n",
    "# MonoPCBM_xp100.log-    X=            -24.5658    Y=              0.5830    Z=             -0.6210  Tot=             24.5806\n"
   ]
  },
  {
   "cell_type": "code",
   "execution_count": 17,
   "metadata": {
    "collapsed": false
   },
   "outputs": [
    {
     "data": {
      "text/plain": [
       "3.3930327172677073"
      ]
     },
     "execution_count": 17,
     "metadata": {},
     "output_type": "execute_result"
    }
   ],
   "source": [
    "permittivity=(21.88721Debye/100E-4auField)/volume\n",
    "1.0+permittivity/ε0\n",
    "# High frequency dielectric constant = "
   ]
  },
  {
   "cell_type": "code",
   "execution_count": 18,
   "metadata": {
    "collapsed": false
   },
   "outputs": [
    {
     "data": {
      "text/plain": [
       "3.5765609416909387"
      ]
     },
     "execution_count": 18,
     "metadata": {},
     "output_type": "execute_result"
    }
   ],
   "source": [
    "permittivity=(23.5658Debye/100E-4auField)/volume\n",
    "1.0+permittivity/ε0\n",
    "# Low frequency dielectric constant = "
   ]
  },
  {
   "cell_type": "code",
   "execution_count": 19,
   "metadata": {
    "collapsed": false
   },
   "outputs": [
    {
     "data": {
      "text/plain": [
       "\"OLD STUFF DOWN BELOW HERE; BEFORE I SAW THE LIGHT OF USING SIUNITS.jl\""
      ]
     },
     "execution_count": 19,
     "metadata": {},
     "output_type": "execute_result"
    }
   ],
   "source": [
    "\"OLD STUFF DOWN BELOW HERE; BEFORE I SAW THE LIGHT OF USING SIUNITS.jl\""
   ]
  },
  {
   "cell_type": "code",
   "execution_count": 20,
   "metadata": {
    "collapsed": false
   },
   "outputs": [
    {
     "name": "stderr",
     "output_type": "stream",
     "text": [
      "WARNING: imported binding for eV overwritten in module Main\n"
     ]
    },
    {
     "ename": "LoadError",
     "evalue": "LoadError: invalid redefinition of constant q\nwhile loading In[20], in expression starting on line 6",
     "output_type": "error",
     "traceback": [
      "LoadError: invalid redefinition of constant q\nwhile loading In[20], in expression starting on line 6",
      ""
     ]
    }
   ],
   "source": [
    "# Constants\n",
    "const hbar=ħ= 1.054E-34\n",
    "const h=    6.62606957E-34\n",
    "const kb=8.6173324E-5 # in units of eV\n",
    "const ε_0 = 8.854E-12 #Units: C2N−1m−2, permittivity of free space\n",
    "const q = eV = 1.60217657E-19\n",
    "const c = 3E8 # Speed of light in this universe\n",
    "const me = 9.10938291E-31 # Mass of electron (kg)\n",
    "const D=3.336E-30 #Debye in SI\n",
    "\n",
    "# System specifics + derived quantities\n",
    "T=300           # Temperature; Kelvin\n",
    "β=1/(kb*T)      # Thermodynamic Beta; units\n",
    "\n",
    "# Units\n",
    "const Å=1E-10 # Angstrom\n",
    "D=3.336E-30 #Debye in SI\n",
    "\n",
    "# Nb: also see: http://www.gaussian.com/g_tech/g_ur/k_constants.htm"
   ]
  },
  {
   "cell_type": "code",
   "execution_count": 21,
   "metadata": {
    "collapsed": false
   },
   "outputs": [
    {
     "ename": "LoadError",
     "evalue": "LoadError: UndefVarError: me not defined\nwhile loading In[21], in expression starting on line 1",
     "output_type": "error",
     "traceback": [
      "LoadError: UndefVarError: me not defined\nwhile loading In[21], in expression starting on line 1",
      ""
     ]
    }
   ],
   "source": [
    "hartree=me*q^4/(4*π*ε_0*ħ)^2\n",
    "println(\"Hartree: \",hartree/q,\" eV\")\n",
    "\n",
    "alpha=α=q^2/(4*π*ε_0*ħ*c)\n",
    "println(\"Alpha: 1/\",1/α)\n",
    "\n",
    "bohr=a_0=4*π*ε_0*ħ^2/(me*q^2)\n",
    "println(\"Bohr: \",bohr,\" m\")\n",
    "\n",
    "au_Field=hartree/(q*bohr)\n",
    "println(\"au Field: \",au_Field,\" V/m\")"
   ]
  },
  {
   "cell_type": "code",
   "execution_count": 22,
   "metadata": {
    "collapsed": false
   },
   "outputs": [
    {
     "ename": "LoadError",
     "evalue": "LoadError: UndefVarError: D not defined\nwhile loading In[22], in expression starting on line 19",
     "output_type": "error",
     "traceback": [
      "LoadError: UndefVarError: D not defined\nwhile loading In[22], in expression starting on line 19",
      "",
      " in response(::Float64, ::Int64) at ./In[22]:7"
     ]
    }
   ],
   "source": [
    "# OK, let's do some calcs with this machinery\n",
    "\n",
    "# Reads in 'Gaussian' (the program) units, which are:\n",
    "# dipoles = Debye\n",
    "# applied-field = au in units of 10'000\n",
    "function response(dipole, field)\n",
    "    SI_dipole= dipole*D\n",
    "    SI_field = field*10E-4*au_Field\n",
    "    \n",
    "    volume=(670)Å^3 # ~ approximately\n",
    "    response=SI_dipole/volume\n",
    "    \n",
    "    polarisation=response/SI_field\n",
    "    polarisation=polarisation/ε_0\n",
    "    polarisation=polarisation*4*π\n",
    "end\n",
    "\n",
    "# C60\n",
    "response(1.1951,10)\n",
    "# PCBM ish\n",
    "response(14.3860,100)"
   ]
  },
  {
   "cell_type": "code",
   "execution_count": null,
   "metadata": {
    "collapsed": true
   },
   "outputs": [],
   "source": []
  }
 ],
 "metadata": {
  "anaconda-cloud": {},
  "kernelspec": {
   "display_name": "Julia 0.5.0",
   "language": "julia",
   "name": "julia-0.5"
  },
  "language_info": {
   "file_extension": ".jl",
   "mimetype": "application/julia",
   "name": "julia",
   "version": "0.5.0"
  }
 },
 "nbformat": 4,
 "nbformat_minor": 1
}
