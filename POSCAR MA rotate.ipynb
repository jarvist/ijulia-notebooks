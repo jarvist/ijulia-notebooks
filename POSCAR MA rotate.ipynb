{
 "cells": [
  {
   "cell_type": "code",
   "execution_count": 1,
   "metadata": {
    "collapsed": false
   },
   "outputs": [
    {
     "name": "stdout",
     "output_type": "stream",
     "text": [
      "[0.9800665778412416 -0.19866933079506122 0.0\n",
      " 0.19866933079506122 0.9800665778412416 0.0\n",
      " 0.0 0.0 1.0]\n",
      "Determinant (should be 1): 1.0\n",
      "Equal to transpose? false\n"
     ]
    }
   ],
   "source": [
    "# Let's do some of this by hand...\n",
    "theta=0.2\n",
    "# Construct rotation matrix\n",
    "rotate = [ cos(theta) -sin(theta) 0 ; sin(theta) cos(theta) 0 ; 0 0 1 ]\n",
    "println(rotate)\n",
    "println(\"Determinant (should be 1): \",det(rotate))\n",
    "println(\"Equal to transpose? \",rotate==rotate')"
   ]
  },
  {
   "cell_type": "code",
   "execution_count": 2,
   "metadata": {
    "collapsed": false
   },
   "outputs": [
    {
     "data": {
      "text/plain": [
       "3x1 Array{Int64,2}:\n",
       " 1\n",
       " 0\n",
       " 0"
      ]
     },
     "execution_count": 2,
     "metadata": {},
     "output_type": "execute_result"
    }
   ],
   "source": [
    "# For real, we'll need to shift the origin, read in a vector & then multiply up\n",
    "origin=[0.5 0.5 0.5]' # origin of MA in unit cell, fractional coords\n",
    "\n",
    "x=[ 1 0 0 ]'\n"
   ]
  },
  {
   "cell_type": "code",
   "execution_count": 3,
   "metadata": {
    "collapsed": false
   },
   "outputs": [
    {
     "data": {
      "text/plain": [
       "3x1 Array{Float64,2}:\n",
       " 1.08937 \n",
       " 0.109301\n",
       " 0.0     "
      ]
     },
     "execution_count": 3,
     "metadata": {},
     "output_type": "execute_result"
    }
   ],
   "source": [
    "origin+(rotate*(x-origin))"
   ]
  },
  {
   "cell_type": "code",
   "execution_count": 4,
   "metadata": {
    "collapsed": false
   },
   "outputs": [],
   "source": [
    "# What Would Hamilton Do? (WWHD?)\n",
    "using Quaternions"
   ]
  },
  {
   "cell_type": "code",
   "execution_count": 5,
   "metadata": {
    "collapsed": false
   },
   "outputs": [
    {
     "data": {
      "text/plain": [
       "0.9238795325112867 + 0.3826834323650898im + 0.0jm + 0.0km"
      ]
     },
     "execution_count": 5,
     "metadata": {},
     "output_type": "execute_result"
    }
   ],
   "source": [
    "qx = qrotation([1,0,0], pi/4)"
   ]
  },
  {
   "cell_type": "code",
   "execution_count": 33,
   "metadata": {
    "collapsed": false
   },
   "outputs": [
    {
     "data": {
      "text/plain": [
       "0.01761635906324975 - 0.5591578023372853im + 0.370893631776856jm + 0.7412625242692807km"
      ]
     },
     "execution_count": 33,
     "metadata": {},
     "output_type": "execute_result"
    }
   ],
   "source": [
    "# Generate a normalized Quaternion with normally distributed random 4 component\n",
    "qr=normalize(Quaternion(randn(),randn(),randn(),randn()))\n",
    "# This should be an evenly distributed rotation matrix"
   ]
  },
  {
   "cell_type": "code",
   "execution_count": 34,
   "metadata": {
    "collapsed": false
   },
   "outputs": [
    {
     "data": {
      "text/plain": [
       "3x3 Array{Float64,2}:\n",
       " -0.374064  -0.440893  -0.815898 \n",
       " -0.388659  -0.724255   0.56956  \n",
       " -0.842033   0.530158   0.0995609"
      ]
     },
     "execution_count": 34,
     "metadata": {},
     "output_type": "execute_result"
    }
   ],
   "source": [
    "rotate=rotationmatrix(qr)"
   ]
  },
  {
   "cell_type": "code",
   "execution_count": 39,
   "metadata": {
    "collapsed": false
   },
   "outputs": [
    {
     "name": "stdout",
     "output_type": "stream",
     "text": [
      "Determinant (should be 1): 1.0000000000000002\n",
      "Does Q^TQ = I? \n",
      "[1.0 1.1102230246251565e-16 9.71445146547012e-17\n",
      " 1.1102230246251565e-16 1.0000000000000002 -1.3877787807814457e-17\n",
      " 9.71445146547012e-17 -1.3877787807814457e-17 0.9999999999999999]\n"
     ]
    }
   ],
   "source": [
    "println(\"Determinant (should be 1): \",det(rotate))\n",
    "println(\"Does Q^TQ = I? \\n\",rotate*rotate')\n"
   ]
  },
  {
   "cell_type": "code",
   "execution_count": 41,
   "metadata": {
    "collapsed": false
   },
   "outputs": [
    {
     "data": {
      "text/plain": [
       "3-element Array{Float64,1}:\n",
       " 1.2\n",
       " 3.4\n",
       " 5.6"
      ]
     },
     "execution_count": 41,
     "metadata": {},
     "output_type": "execute_result"
    }
   ],
   "source": [
    "float(split(\"1.2 3.4 5.6\", ' '))"
   ]
  },
  {
   "cell_type": "code",
   "execution_count": 42,
   "metadata": {
    "collapsed": false
   },
   "outputs": [
    {
     "data": {
      "text/plain": [
       "3x3 Array{Float64,2}:\n",
       " 1.0  0.0  0.0\n",
       " 0.0  1.0  0.0\n",
       " 0.0  0.0  1.0"
      ]
     },
     "execution_count": 42,
     "metadata": {},
     "output_type": "execute_result"
    }
   ],
   "source": [
    "eye(3)"
   ]
  },
  {
   "cell_type": "code",
   "execution_count": 44,
   "metadata": {
    "collapsed": false
   },
   "outputs": [
    {
     "data": {
      "text/plain": [
       "16"
      ]
     },
     "execution_count": 44,
     "metadata": {},
     "output_type": "execute_result"
    }
   ],
   "source": [
    "length(\"4998165502286085\")"
   ]
  },
  {
   "cell_type": "code",
   "execution_count": 50,
   "metadata": {
    "collapsed": false
   },
   "outputs": [
    {
     "data": {
      "text/plain": [
       "3-element Array{Float64,1}:\n",
       " 0.2\n",
       " 0.2\n",
       " 0.5"
      ]
     },
     "execution_count": 50,
     "metadata": {},
     "output_type": "execute_result"
    }
   ],
   "source": [
    "mod([0.2;1.2;-0.5],1)"
   ]
  },
  {
   "cell_type": "code",
   "execution_count": null,
   "metadata": {
    "collapsed": true
   },
   "outputs": [],
   "source": []
  }
 ],
 "metadata": {
  "kernelspec": {
   "display_name": "Julia 0.4.0",
   "language": "julia",
   "name": "julia-0.4"
  },
  "language_info": {
   "file_extension": ".jl",
   "mimetype": "application/julia",
   "name": "julia",
   "version": "0.4.0"
  }
 },
 "nbformat": 4,
 "nbformat_minor": 0
}
