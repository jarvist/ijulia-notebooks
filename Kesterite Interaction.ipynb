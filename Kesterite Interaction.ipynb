{
 "cells": [
  {
   "cell_type": "code",
   "execution_count": 1,
   "metadata": {
    "collapsed": false
   },
   "outputs": [
    {
     "data": {
      "text/plain": [
       "3.84e-10"
      ]
     },
     "execution_count": 1,
     "metadata": {},
     "output_type": "execute_result"
    }
   ],
   "source": [
    "# Constants\n",
    "ε0 = 8.854187817E-12\n",
    "eV = 1.60217657E-19\n",
    "Å=1E-10\n",
    "\n",
    "εr = 13.2\n",
    "\n",
    "r=3.84Å\n"
   ]
  },
  {
   "cell_type": "code",
   "execution_count": 2,
   "metadata": {
    "collapsed": false
   },
   "outputs": [
    {
     "name": "stdout",
     "output_type": "stream",
     "text": [
      "0.2840839034168217 eV"
     ]
    }
   ],
   "source": [
    "## interaction by simple Coulombic point charges\n",
    "E=1.0/(4*π*ε0*εr)*(1/r)\n",
    "print(E*eV,\" eV\")"
   ]
  },
  {
   "cell_type": "code",
   "execution_count": 3,
   "metadata": {
    "collapsed": false
   },
   "outputs": [
    {
     "name": "stdout",
     "output_type": "stream",
     "text": [
      "1.0 Å \t1.0908821891205953 eV\n",
      "2.0 Å \t0.5454410945602977 eV\n",
      "3.0 Å \t0.3636273963735318 eV\n",
      "4.0 Å \t0.27272054728014883 eV\n",
      "5.0 Å \t0.21817643782411905 eV\n",
      "6.0 Å \t0.1818136981867659 eV\n",
      "6.999999999999999 Å \t0.15584031273151364 eV\n",
      "8.0 Å \t0.13636027364007441 eV\n",
      "9.0 Å \t0.12120913212451061 eV\n",
      "10.0 Å \t0.10908821891205953 eV\n",
      "11.000000000000002 Å \t0.0991711081018723 eV\n",
      "12.000000000000002 Å \t0.09090684909338294 eV\n",
      "13.0 Å \t0.0839140145477381 eV\n",
      "14.0 Å \t0.07792015636575682 eV\n",
      "15.000000000000002 Å \t0.07272547927470635 eV\n",
      "16.0 Å \t0.06818013682003721 eV\n",
      "17.0 Å \t0.06416954053650561 eV\n",
      "18.0 Å \t0.06060456606225529 eV\n",
      "19.0 Å \t0.057414852058978706 eV\n",
      "20.0 Å \t0.05454410945602976 eV\n"
     ]
    }
   ],
   "source": [
    "for r = 1Å:1Å:20Å\n",
    "    print (r/Å,\" Å \\t\",eV*1.0/(4*π*ε0*εr)*(1/r),\" eV\\n\")\n",
    "end"
   ]
  },
  {
   "cell_type": "code",
   "execution_count": null,
   "metadata": {
    "collapsed": true
   },
   "outputs": [],
   "source": []
  }
 ],
 "metadata": {
  "kernelspec": {
   "display_name": "Julia 0.3.6",
   "language": "julia",
   "name": "julia 0.3"
  },
  "language_info": {
   "file_extension": ".jl",
   "mimetype": "application/julia",
   "name": "julia",
   "version": "0.3.6"
  }
 },
 "nbformat": 4,
 "nbformat_minor": 0
}
