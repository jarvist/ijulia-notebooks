{
 "cells": [
  {
   "cell_type": "code",
   "execution_count": 1,
   "metadata": {},
   "outputs": [
    {
     "ename": "LoadError",
     "evalue": "\u001b[91msyntax: extra token \"STATIC\" after end of expression\u001b[39m",
     "output_type": "error",
     "traceback": [
      "\u001b[91msyntax: extra token \"STATIC\" after end of expression\u001b[39m",
      ""
     ]
    }
   ],
   "source": [
    "# Early, not that well converged, result\n",
    "# [12:03:34]jmf02@login-2-internal:/work/jmf02/2018-04-VASP-Oxides/0006-From0004_DFPT_calc/ \n",
    "\n",
    "# extract data like this with: grep -A 4 DIELECTRIC */OUTCAR\n",
    "\n",
    "mp-7048_Al2O3/OUTCAR: MACROSCOPIC STATIC DIELECTRIC TENSOR (including local field effects in DFT)\n",
    "mp-7048_Al2O3/OUTCAR- ------------------------------------------------------\n",
    "mp-7048_Al2O3/OUTCAR-           3.156908     0.000000     0.005776\n",
    "mp-7048_Al2O3/OUTCAR-           0.000000     3.180739     0.000000\n",
    "mp-7048_Al2O3/OUTCAR-           0.005759     0.000000     3.149902\n",
    "--\n",
    "mp-7048_Al2O3/OUTCAR: MACROSCOPIC STATIC DIELECTRIC TENSOR IONIC CONTRIBUTION\n",
    "mp-7048_Al2O3/OUTCAR- ------------------------------------------------------\n",
    "mp-7048_Al2O3/OUTCAR-          14.781653     0.000009     0.791148\n",
    "mp-7048_Al2O3/OUTCAR-           0.000009     4.446781     0.000001\n",
    "mp-7048_Al2O3/OUTCAR-           0.791148     0.000001     5.041645\n"
   ]
  },
  {
   "cell_type": "code",
   "execution_count": 2,
   "metadata": {},
   "outputs": [
    {
     "data": {
      "text/plain": [
       "3×3 Array{Float64,2}:\n",
       " 3.15691   0.0      0.005776\n",
       " 0.0       3.18074  0.0     \n",
       " 0.005759  0.0      3.1499  "
      ]
     },
     "execution_count": 2,
     "metadata": {},
     "output_type": "execute_result"
    }
   ],
   "source": [
    "ϵ_optic=[\n",
    "3.156908     0.000000     0.005776\n",
    "0.000000     3.180739     0.000000\n",
    "0.005759     0.000000     3.149902 ]"
   ]
  },
  {
   "cell_type": "code",
   "execution_count": 3,
   "metadata": {},
   "outputs": [
    {
     "data": {
      "text/plain": [
       "3×3 Array{Float64,2}:\n",
       " 14.7817    9.0e-6   0.791148\n",
       "  9.0e-6    4.44678  1.0e-6  \n",
       "  0.791148  1.0e-6   5.04164 "
      ]
     },
     "execution_count": 3,
     "metadata": {},
     "output_type": "execute_result"
    }
   ],
   "source": [
    "ϵ_static=[\n",
    "  14.781653     0.000009     0.791148\n",
    "  0.000009     4.446781     0.000001\n",
    "  0.791148     0.000001     5.041645 ]"
   ]
  },
  {
   "cell_type": "code",
   "execution_count": 4,
   "metadata": {},
   "outputs": [
    {
     "data": {
      "text/plain": [
       "([4.44678, 4.9778, 14.8455], [8.26274e-7 -0.0804362 -0.99676; -1.0 5.13792e-7 -8.70422e-7; 5.82141e-7 0.99676 -0.0804362])"
      ]
     },
     "execution_count": 4,
     "metadata": {},
     "output_type": "execute_result"
    }
   ],
   "source": [
    "# As these are by definition symmetric, we should be able to eigendecompose them\n",
    "eig(ϵ_static)"
   ]
  },
  {
   "cell_type": "code",
   "execution_count": 5,
   "metadata": {},
   "outputs": [
    {
     "data": {
      "text/plain": [
       "328.6079189838876"
      ]
     },
     "execution_count": 5,
     "metadata": {},
     "output_type": "execute_result"
    }
   ],
   "source": [
    "# And perhaps something useful can be gained by the determinant? As this is the volume change of the tensor as a transform...\n",
    "\n",
    "det(ϵ_static)"
   ]
  },
  {
   "cell_type": "code",
   "execution_count": 6,
   "metadata": {},
   "outputs": [
    {
     "data": {
      "text/plain": [
       "328.60783672072205"
      ]
     },
     "execution_count": 6,
     "metadata": {},
     "output_type": "execute_result"
    }
   ],
   "source": [
    "# Check that my understanding is correct - is this just the eigenvalues multiplied together?\n",
    "4.44678 * 4.9778 * 14.8455\n",
    "# Yes!"
   ]
  },
  {
   "cell_type": "code",
   "execution_count": 7,
   "metadata": {},
   "outputs": [
    {
     "data": {
      "text/plain": [
       "6.900692494972241"
      ]
     },
     "execution_count": 7,
     "metadata": {},
     "output_type": "execute_result"
    }
   ],
   "source": [
    "# So, to get an isotropic approximation to the dielectric constant, simply take the cube-root of the determinant of the dielectric tensor\n",
    "\n",
    "\n",
    "(det(ϵ_static))^(1/3)"
   ]
  },
  {
   "cell_type": "code",
   "execution_count": 8,
   "metadata": {},
   "outputs": [
    {
     "data": {
      "text/plain": [
       "3.162485306237126"
      ]
     },
     "execution_count": 8,
     "metadata": {},
     "output_type": "execute_result"
    }
   ],
   "source": [
    "(det(ϵ_optic))^(1/3)"
   ]
  },
  {
   "cell_type": "code",
   "execution_count": 9,
   "metadata": {},
   "outputs": [
    {
     "data": {
      "text/plain": [
       "\"mp-554278_TiO2/OUTCAR: HEAD OF MICROSCOPIC STATIC DIELECTRIC TENSOR (INDEPENDENT PARTICLE, excluding Hartree and local field effects)\\nmp-554278_TiO2/OUTCAR- ------------------------------------------------------\\nmp-554278_TiO2/OUTCAR-           6.410911     0.000000     0.224241\\nmp-554278_TiO2/OUTCAR-           0.000000     6.435697     0.000000\\nmp-554278_TiO2/OUTCAR-           0.224235     0.000000     6.656379\\n--\\nmp-554278_TiO2/OUTCAR: MACROSCOPIC STATIC DIELECTRIC TENSOR (including local field effects in DFT)\\nmp-554278_TiO2/OUTCAR- ------------------------------------------------------\\nmp-554278_TiO2/OUTCAR-           6.093886     0.000000     0.119531\\nmp-554278_TiO2/OUTCAR-           0.000000     6.277038     0.000000\\nmp-554278_TiO2/OUTCAR-           0.119526     0.000000     6.194047\\n--\\nmp-554278_TiO2/OUTCAR: MACROSCOPIC STATIC DIELECTRIC TENSOR (including local field effects in DFT)\\nmp-554278_TiO2/OUTCAR- ------------------------------------------------------\\nmp-554278_TiO2/OUTCAR-           6.093886     0.000000     0.119531\\nmp-554278_TiO2/OUTCAR-           0.000000     6.277038     0.000000\\nmp-554278_TiO2/OUTCAR-           0.119526     0.000000     6.194047\\n--\\nmp-554278_TiO2/OUTCAR: MACROSCOPIC STATIC DIELECTRIC TENSOR IONIC CONTRIBUTION\\nmp-554278_TiO2/OUTCAR- ------------------------------------------------------\\nmp-554278_TiO2/OUTCAR-          23.119111     0.001188     1.338803\\nmp-554278_TiO2/OUTCAR-           0.001188    46.884293     0.002807\\nmp-554278_TiO2/OUTCAR-           1.338803     0.002807    33.250668\\n\""
      ]
     },
     "execution_count": 9,
     "metadata": {},
     "output_type": "execute_result"
    }
   ],
   "source": [
    "# OK, let's try building some kind of parser\n",
    "\n",
    "TiO2=\"mp-554278_TiO2/OUTCAR: HEAD OF MICROSCOPIC STATIC DIELECTRIC TENSOR (INDEPENDENT PARTICLE, excluding Hartree and local field effects)\n",
    "mp-554278_TiO2/OUTCAR- ------------------------------------------------------\n",
    "mp-554278_TiO2/OUTCAR-           6.410911     0.000000     0.224241\n",
    "mp-554278_TiO2/OUTCAR-           0.000000     6.435697     0.000000\n",
    "mp-554278_TiO2/OUTCAR-           0.224235     0.000000     6.656379\n",
    "--\n",
    "mp-554278_TiO2/OUTCAR: MACROSCOPIC STATIC DIELECTRIC TENSOR (including local field effects in DFT)\n",
    "mp-554278_TiO2/OUTCAR- ------------------------------------------------------\n",
    "mp-554278_TiO2/OUTCAR-           6.093886     0.000000     0.119531\n",
    "mp-554278_TiO2/OUTCAR-           0.000000     6.277038     0.000000\n",
    "mp-554278_TiO2/OUTCAR-           0.119526     0.000000     6.194047\n",
    "--\n",
    "mp-554278_TiO2/OUTCAR: MACROSCOPIC STATIC DIELECTRIC TENSOR (including local field effects in DFT)\n",
    "mp-554278_TiO2/OUTCAR- ------------------------------------------------------\n",
    "mp-554278_TiO2/OUTCAR-           6.093886     0.000000     0.119531\n",
    "mp-554278_TiO2/OUTCAR-           0.000000     6.277038     0.000000\n",
    "mp-554278_TiO2/OUTCAR-           0.119526     0.000000     6.194047\n",
    "--\n",
    "mp-554278_TiO2/OUTCAR: MACROSCOPIC STATIC DIELECTRIC TENSOR IONIC CONTRIBUTION\n",
    "mp-554278_TiO2/OUTCAR- ------------------------------------------------------\n",
    "mp-554278_TiO2/OUTCAR-          23.119111     0.001188     1.338803\n",
    "mp-554278_TiO2/OUTCAR-           0.001188    46.884293     0.002807\n",
    "mp-554278_TiO2/OUTCAR-           1.338803     0.002807    33.250668\n",
    "\""
   ]
  },
  {
   "cell_type": "code",
   "execution_count": 10,
   "metadata": {},
   "outputs": [
    {
     "data": {
      "text/plain": [
       "23×15 Array{Any,2}:\n",
       " \"mp-554278_TiO2/OUTCAR:\"  …  \"and\"  \"local\"  \"field\"  \"effects)\"\n",
       " \"mp-554278_TiO2/OUTCAR-\"     \"\"     \"\"       \"\"       \"\"        \n",
       " \"mp-554278_TiO2/OUTCAR-\"     \"\"     \"\"       \"\"       \"\"        \n",
       " \"mp-554278_TiO2/OUTCAR-\"     \"\"     \"\"       \"\"       \"\"        \n",
       " \"mp-554278_TiO2/OUTCAR-\"     \"\"     \"\"       \"\"       \"\"        \n",
       " \"--\"                      …  \"\"     \"\"       \"\"       \"\"        \n",
       " \"mp-554278_TiO2/OUTCAR:\"     \"\"     \"\"       \"\"       \"\"        \n",
       " \"mp-554278_TiO2/OUTCAR-\"     \"\"     \"\"       \"\"       \"\"        \n",
       " \"mp-554278_TiO2/OUTCAR-\"     \"\"     \"\"       \"\"       \"\"        \n",
       " \"mp-554278_TiO2/OUTCAR-\"     \"\"     \"\"       \"\"       \"\"        \n",
       " \"mp-554278_TiO2/OUTCAR-\"  …  \"\"     \"\"       \"\"       \"\"        \n",
       " \"--\"                         \"\"     \"\"       \"\"       \"\"        \n",
       " \"mp-554278_TiO2/OUTCAR:\"     \"\"     \"\"       \"\"       \"\"        \n",
       " \"mp-554278_TiO2/OUTCAR-\"     \"\"     \"\"       \"\"       \"\"        \n",
       " \"mp-554278_TiO2/OUTCAR-\"     \"\"     \"\"       \"\"       \"\"        \n",
       " \"mp-554278_TiO2/OUTCAR-\"  …  \"\"     \"\"       \"\"       \"\"        \n",
       " \"mp-554278_TiO2/OUTCAR-\"     \"\"     \"\"       \"\"       \"\"        \n",
       " \"--\"                         \"\"     \"\"       \"\"       \"\"        \n",
       " \"mp-554278_TiO2/OUTCAR:\"     \"\"     \"\"       \"\"       \"\"        \n",
       " \"mp-554278_TiO2/OUTCAR-\"     \"\"     \"\"       \"\"       \"\"        \n",
       " \"mp-554278_TiO2/OUTCAR-\"  …  \"\"     \"\"       \"\"       \"\"        \n",
       " \"mp-554278_TiO2/OUTCAR-\"     \"\"     \"\"       \"\"       \"\"        \n",
       " \"mp-554278_TiO2/OUTCAR-\"     \"\"     \"\"       \"\"       \"\"        "
      ]
     },
     "execution_count": 10,
     "metadata": {},
     "output_type": "execute_result"
    }
   ],
   "source": [
    "m=readdlm(IOBuffer(TiO2))"
   ]
  },
  {
   "cell_type": "code",
   "execution_count": 11,
   "metadata": {},
   "outputs": [
    {
     "data": {
      "text/plain": [
       "6.093886"
      ]
     },
     "execution_count": 11,
     "metadata": {},
     "output_type": "execute_result"
    }
   ],
   "source": [
    "# finding start of ϵ_optic\n",
    "m[15,2]"
   ]
  },
  {
   "cell_type": "code",
   "execution_count": 12,
   "metadata": {},
   "outputs": [
    {
     "data": {
      "text/plain": [
       "23.119111"
      ]
     },
     "execution_count": 12,
     "metadata": {},
     "output_type": "execute_result"
    }
   ],
   "source": [
    "# start of ϵ_static\n",
    "m[21,2]"
   ]
  },
  {
   "cell_type": "code",
   "execution_count": 13,
   "metadata": {},
   "outputs": [
    {
     "data": {
      "text/plain": [
       "3×3 Array{Float64,2}:\n",
       " 6.09389   0.0      0.119531\n",
       " 0.0       6.27704  0.0     \n",
       " 0.119526  0.0      6.19405 "
      ]
     },
     "execution_count": 13,
     "metadata": {},
     "output_type": "execute_result"
    }
   ],
   "source": [
    "# pull out the TENSOR; convert to floating point\n",
    "ϵ_optic=convert(Array{Float64},(m[15:17,2:4]))"
   ]
  },
  {
   "cell_type": "code",
   "execution_count": 14,
   "metadata": {},
   "outputs": [
    {
     "data": {
      "text/plain": [
       "3×3 Array{Float64,2}:\n",
       " 23.1191     0.001188   1.3388  \n",
       "  0.001188  46.8843     0.002807\n",
       "  1.3388     0.002807  33.2507  "
      ]
     },
     "execution_count": 14,
     "metadata": {},
     "output_type": "execute_result"
    }
   ],
   "source": [
    "ϵ_static=convert(Array{Float64},(m[21:23,2:4]))"
   ]
  },
  {
   "cell_type": "code",
   "execution_count": 15,
   "metadata": {},
   "outputs": [
    {
     "data": {
      "text/plain": [
       "6.187089356732976"
      ]
     },
     "execution_count": 15,
     "metadata": {},
     "output_type": "execute_result"
    }
   ],
   "source": [
    "ϵ_optic_iso=det(ϵ_optic)^(1/3)"
   ]
  },
  {
   "cell_type": "code",
   "execution_count": 16,
   "metadata": {},
   "outputs": [
    {
     "data": {
      "text/plain": [
       "33.00616177442262"
      ]
     },
     "execution_count": 16,
     "metadata": {},
     "output_type": "execute_result"
    }
   ],
   "source": [
    "ϵ_static_iso=det(ϵ_static)^(1/3)"
   ]
  },
  {
   "cell_type": "code",
   "execution_count": 17,
   "metadata": {},
   "outputs": [
    {
     "data": {
      "text/plain": [
       "isotropisedielectrictensor (generic function with 1 method)"
      ]
     },
     "execution_count": 17,
     "metadata": {},
     "output_type": "execute_result"
    }
   ],
   "source": [
    "# Let's wrap all that in a function...\n",
    "function isotropisedielectrictensor(raw)\n",
    "    m=readdlm(IOBuffer(raw))\n",
    "    ϵ_optic=convert(Array{Float64},(m[15:17,2:4]))\n",
    "    ϵ_optic_iso=det(ϵ_optic)^(1/3)\n",
    "    ϵ_static=convert(Array{Float64},(m[21:23,2:4]))\n",
    "    ϵ_static_iso=det(ϵ_static)^(1/3)\n",
    "    \n",
    "    # May as well echo stuff back so you can see whether it was parsed correctly...\n",
    "    println(\"ϵ_optic = \",ϵ_optic)\n",
    "    println(\"ϵ_optic_iso = \",ϵ_optic_iso)\n",
    "    println(\"ϵ_static = \",ϵ_static)\n",
    "    println(\"ϵ_static_iso = \",ϵ_static_iso)\n",
    "    \n",
    "    return ϵ_optic_iso, ϵ_static_iso\n",
    "end"
   ]
  },
  {
   "cell_type": "code",
   "execution_count": 18,
   "metadata": {},
   "outputs": [
    {
     "ename": "LoadError",
     "evalue": "\u001b[91mUndefVarError: fromgrep not defined\u001b[39m",
     "output_type": "error",
     "traceback": [
      "\u001b[91mUndefVarError: fromgrep not defined\u001b[39m",
      ""
     ]
    }
   ],
   "source": [
    "isotropisedielectrictensor(fromgrep)"
   ]
  },
  {
   "cell_type": "code",
   "execution_count": 24,
   "metadata": {},
   "outputs": [
    {
     "name": "stdout",
     "output_type": "stream",
     "text": [
      "ϵ_optic = [6.09389 0.0 0.119531; 0.0 6.27704 0.0; 0.119526 0.0 6.19405]\n",
      "ϵ_optic_iso = 6.187089356732976\n",
      "ϵ_static = [23.1191 0.001188 1.3388; 0.001188 46.8843 0.002807; 1.3388 0.002807 33.2507]\n",
      "ϵ_static_iso = 33.00616177442262\n"
     ]
    },
    {
     "data": {
      "text/plain": [
       "(6.187089356732976, 33.00616177442262)"
      ]
     },
     "execution_count": 24,
     "metadata": {},
     "output_type": "execute_result"
    }
   ],
   "source": [
    "# Right! Lovely stuff.\n",
    "# Seems to work.\n",
    "# Let's run this though our current (poorly converged) structures and see what sort of ball-park values we get.\n",
    "\n",
    "isotropisedielectrictensor(TiO2)"
   ]
  },
  {
   "cell_type": "code",
   "execution_count": 20,
   "metadata": {},
   "outputs": [
    {
     "name": "stdout",
     "output_type": "stream",
     "text": [
      "ϵ_optic = [3.15691 0.0 0.005776; 0.0 3.18074 0.0; 0.005759 0.0 3.1499]\n",
      "ϵ_optic_iso = 3.162485306237126\n",
      "ϵ_static = [14.7817 9.0e-6 0.791148; 9.0e-6 4.44678 1.0e-6; 0.791148 1.0e-6 5.04164]\n",
      "ϵ_static_iso = 6.900692494972241\n"
     ]
    },
    {
     "data": {
      "text/plain": [
       "(3.162485306237126, 6.900692494972241)"
      ]
     },
     "execution_count": 20,
     "metadata": {},
     "output_type": "execute_result"
    }
   ],
   "source": [
    "Al2O3=\"mp-7048_Al2O3/OUTCAR: HEAD OF MICROSCOPIC STATIC DIELECTRIC TENSOR (INDEPENDENT PARTICLE, excluding Hartree and local field effects)\n",
    "mp-7048_Al2O3/OUTCAR- ------------------------------------------------------\n",
    "mp-7048_Al2O3/OUTCAR-           3.229990     0.000000     0.005163\n",
    "mp-7048_Al2O3/OUTCAR-           0.000000     3.258280     0.000000\n",
    "mp-7048_Al2O3/OUTCAR-           0.005159     0.000000     3.213271\n",
    "--\n",
    "mp-7048_Al2O3/OUTCAR: MACROSCOPIC STATIC DIELECTRIC TENSOR (including local field effects in DFT)\n",
    "mp-7048_Al2O3/OUTCAR- ------------------------------------------------------\n",
    "mp-7048_Al2O3/OUTCAR-           3.156908     0.000000     0.005776\n",
    "mp-7048_Al2O3/OUTCAR-           0.000000     3.180739     0.000000\n",
    "mp-7048_Al2O3/OUTCAR-           0.005759     0.000000     3.149902\n",
    "--\n",
    "mp-7048_Al2O3/OUTCAR: MACROSCOPIC STATIC DIELECTRIC TENSOR (including local field effects in DFT)\n",
    "mp-7048_Al2O3/OUTCAR- ------------------------------------------------------\n",
    "mp-7048_Al2O3/OUTCAR-           3.156908     0.000000     0.005776\n",
    "mp-7048_Al2O3/OUTCAR-           0.000000     3.180739     0.000000\n",
    "mp-7048_Al2O3/OUTCAR-           0.005759     0.000000     3.149902\n",
    "--\n",
    "mp-7048_Al2O3/OUTCAR: MACROSCOPIC STATIC DIELECTRIC TENSOR IONIC CONTRIBUTION\n",
    "mp-7048_Al2O3/OUTCAR- ------------------------------------------------------\n",
    "mp-7048_Al2O3/OUTCAR-          14.781653     0.000009     0.791148\n",
    "mp-7048_Al2O3/OUTCAR-           0.000009     4.446781     0.000001\n",
    "mp-7048_Al2O3/OUTCAR-           0.791148     0.000001     5.041645\n",
    "\"\n",
    "\n",
    "isotropisedielectrictensor(Al2O3)"
   ]
  },
  {
   "cell_type": "code",
   "execution_count": 21,
   "metadata": {},
   "outputs": [
    {
     "name": "stdout",
     "output_type": "stream",
     "text": [
      "ϵ_optic = [5.33226 0.0 0.0; 0.0 3.39511 0.0; 0.0 0.0 5.86189]\n",
      "ϵ_optic_iso = 4.734430569334175\n",
      "ϵ_static = [11.6767 -0.000165 0.000441; -0.000165 0.807164 0.04669; 0.000441 0.04669 17.4185]\n",
      "ϵ_static_iso = 5.475303393871386\n"
     ]
    },
    {
     "data": {
      "text/plain": [
       "(4.734430569334175, 5.475303393871386)"
      ]
     },
     "execution_count": 21,
     "metadata": {},
     "output_type": "execute_result"
    }
   ],
   "source": [
    "V2O5=\"mp-25620_V2O5/OUTCAR: HEAD OF MICROSCOPIC STATIC DIELECTRIC TENSOR (INDEPENDENT PARTICLE, excluding Hartree and local field effects)\n",
    "mp-25620_V2O5/OUTCAR- ------------------------------------------------------\n",
    "mp-25620_V2O5/OUTCAR-           5.411343     0.000000     0.000000\n",
    "mp-25620_V2O5/OUTCAR-           0.000000     5.996912     0.000000\n",
    "mp-25620_V2O5/OUTCAR-           0.000000     0.000000     6.063641\n",
    "--\n",
    "mp-25620_V2O5/OUTCAR: MACROSCOPIC STATIC DIELECTRIC TENSOR (including local field effects in DFT)\n",
    "mp-25620_V2O5/OUTCAR- ------------------------------------------------------\n",
    "mp-25620_V2O5/OUTCAR-           5.332260     0.000000     0.000000\n",
    "mp-25620_V2O5/OUTCAR-           0.000000     3.395111     0.000000\n",
    "mp-25620_V2O5/OUTCAR-           0.000000     0.000000     5.861894\n",
    "--\n",
    "mp-25620_V2O5/OUTCAR: MACROSCOPIC STATIC DIELECTRIC TENSOR (including local field effects in DFT)\n",
    "mp-25620_V2O5/OUTCAR- ------------------------------------------------------\n",
    "mp-25620_V2O5/OUTCAR-           5.332260     0.000000     0.000000\n",
    "mp-25620_V2O5/OUTCAR-           0.000000     3.395111     0.000000\n",
    "mp-25620_V2O5/OUTCAR-           0.000000     0.000000     5.861894\n",
    "--\n",
    "mp-25620_V2O5/OUTCAR: MACROSCOPIC STATIC DIELECTRIC TENSOR IONIC CONTRIBUTION\n",
    "mp-25620_V2O5/OUTCAR- ------------------------------------------------------\n",
    "mp-25620_V2O5/OUTCAR-          11.676696    -0.000165     0.000441\n",
    "mp-25620_V2O5/OUTCAR-          -0.000165     0.807164     0.046690\n",
    "mp-25620_V2O5/OUTCAR-           0.000441     0.046690    17.418476\n",
    "--\n",
    "\"\n",
    "\n",
    "isotropisedielectrictensor(V2O5)"
   ]
  },
  {
   "cell_type": "code",
   "execution_count": 22,
   "metadata": {},
   "outputs": [
    {
     "name": "stdout",
     "output_type": "stream",
     "text": [
      "ϵ_optic = [6.33362 -0.0 0.0; -0.0 6.33362 0.0; 0.0 0.0 6.09166]\n",
      "ϵ_optic_iso = 6.251917508931553\n",
      "ϵ_static = [12.9406 -0.001714 -0.001929; -0.001714 13.3745 0.020139; -0.001929 0.020139 13.5914]\n",
      "ϵ_static_iso = 13.299366628733658\n"
     ]
    },
    {
     "data": {
      "text/plain": [
       "(6.251917508931553, 13.299366628733658)"
      ]
     },
     "execution_count": 22,
     "metadata": {},
     "output_type": "execute_result"
    }
   ],
   "source": [
    "Fe2O3=\"mp-24972_Fe2O3/OUTCAR: HEAD OF MICROSCOPIC STATIC DIELECTRIC TENSOR (INDEPENDENT PARTICLE, excluding Hartree and local field effects)\n",
    "mp-24972_Fe2O3/OUTCAR- ------------------------------------------------------\n",
    "mp-24972_Fe2O3/OUTCAR-           6.302929    -0.000000    -0.000000\n",
    "mp-24972_Fe2O3/OUTCAR-          -0.000000     6.302930    -0.000000\n",
    "mp-24972_Fe2O3/OUTCAR-           0.000000     0.000000     6.035658\n",
    "--\n",
    "mp-24972_Fe2O3/OUTCAR: MACROSCOPIC STATIC DIELECTRIC TENSOR (including local field effects in DFT)\n",
    "mp-24972_Fe2O3/OUTCAR- ------------------------------------------------------\n",
    "mp-24972_Fe2O3/OUTCAR-           6.333622    -0.000000     0.000000\n",
    "mp-24972_Fe2O3/OUTCAR-          -0.000000     6.333624     0.000000\n",
    "mp-24972_Fe2O3/OUTCAR-           0.000000     0.000000     6.091655\n",
    "--\n",
    "mp-24972_Fe2O3/OUTCAR: MACROSCOPIC STATIC DIELECTRIC TENSOR (including local field effects in DFT)\n",
    "mp-24972_Fe2O3/OUTCAR- ------------------------------------------------------\n",
    "mp-24972_Fe2O3/OUTCAR-           6.333622    -0.000000     0.000000\n",
    "mp-24972_Fe2O3/OUTCAR-          -0.000000     6.333624     0.000000\n",
    "mp-24972_Fe2O3/OUTCAR-           0.000000     0.000000     6.091655\n",
    "--\n",
    "mp-24972_Fe2O3/OUTCAR: MACROSCOPIC STATIC DIELECTRIC TENSOR IONIC CONTRIBUTION\n",
    "mp-24972_Fe2O3/OUTCAR- ------------------------------------------------------\n",
    "mp-24972_Fe2O3/OUTCAR-          12.940557    -0.001714    -0.001929\n",
    "mp-24972_Fe2O3/OUTCAR-          -0.001714    13.374509     0.020139\n",
    "mp-24972_Fe2O3/OUTCAR-          -0.001929     0.020139    13.591364\n",
    "\"\n",
    "isotropisedielectrictensor(Fe2O3)"
   ]
  },
  {
   "cell_type": "code",
   "execution_count": 23,
   "metadata": {},
   "outputs": [
    {
     "name": "stdout",
     "output_type": "stream",
     "text": [
      "ϵ_optic = [6.25421 1.0e-6 0.0; 1.0e-6 6.25421 0.0; 0.0 0.0 6.49773]\n",
      "ϵ_optic_iso = 6.334355025980992\n",
      "ϵ_static = [4.06154 0.004197 0.002477; 0.004197 3.93766 0.00962; 0.002477 0.00962 5.81156]\n",
      "ϵ_static_iso = 4.529739635665152\n"
     ]
    },
    {
     "data": {
      "text/plain": [
       "(6.334355025980992, 4.529739635665152)"
      ]
     },
     "execution_count": 23,
     "metadata": {},
     "output_type": "execute_result"
    }
   ],
   "source": [
    "Cr2O3=\"mp-19399_Cr2O3/OUTCAR: HEAD OF MICROSCOPIC STATIC DIELECTRIC TENSOR (INDEPENDENT PARTICLE, excluding Hartree and local field effects)\n",
    "mp-19399_Cr2O3/OUTCAR- ------------------------------------------------------\n",
    "mp-19399_Cr2O3/OUTCAR-           6.413752     0.000001    -0.000000\n",
    "mp-19399_Cr2O3/OUTCAR-           0.000001     6.413753     0.000000\n",
    "mp-19399_Cr2O3/OUTCAR-           0.000000    -0.000000     6.571424\n",
    "--\n",
    "mp-19399_Cr2O3/OUTCAR: MACROSCOPIC STATIC DIELECTRIC TENSOR (including local field effects in DFT)\n",
    "mp-19399_Cr2O3/OUTCAR- ------------------------------------------------------\n",
    "mp-19399_Cr2O3/OUTCAR-           6.254214     0.000001     0.000000\n",
    "mp-19399_Cr2O3/OUTCAR-           0.000001     6.254214     0.000000\n",
    "mp-19399_Cr2O3/OUTCAR-           0.000000     0.000000     6.497731\n",
    "--\n",
    "mp-19399_Cr2O3/OUTCAR: MACROSCOPIC STATIC DIELECTRIC TENSOR (including local field effects in DFT)\n",
    "mp-19399_Cr2O3/OUTCAR- ------------------------------------------------------\n",
    "mp-19399_Cr2O3/OUTCAR-           6.254214     0.000001     0.000000\n",
    "mp-19399_Cr2O3/OUTCAR-           0.000001     6.254214     0.000000\n",
    "mp-19399_Cr2O3/OUTCAR-           0.000000     0.000000     6.497731\n",
    "--\n",
    "mp-19399_Cr2O3/OUTCAR: MACROSCOPIC STATIC DIELECTRIC TENSOR IONIC CONTRIBUTION\n",
    "mp-19399_Cr2O3/OUTCAR- ------------------------------------------------------\n",
    "mp-19399_Cr2O3/OUTCAR-           4.061543     0.004197     0.002477\n",
    "mp-19399_Cr2O3/OUTCAR-           0.004197     3.937662     0.009620\n",
    "mp-19399_Cr2O3/OUTCAR-           0.002477     0.009620     5.811558\n",
    "--\n",
    "\"\n",
    "\n",
    "isotropisedielectrictensor(Cr2O3)"
   ]
  },
  {
   "cell_type": "code",
   "execution_count": null,
   "metadata": {},
   "outputs": [],
   "source": []
  }
 ],
 "metadata": {
  "kernelspec": {
   "display_name": "Julia 0.6.2",
   "language": "julia",
   "name": "julia-0.6"
  },
  "language_info": {
   "file_extension": ".jl",
   "mimetype": "application/julia",
   "name": "julia",
   "version": "0.6.2"
  }
 },
 "nbformat": 4,
 "nbformat_minor": 2
}
